{
 "cells": [
  {
   "cell_type": "markdown",
   "id": "d423c68b",
   "metadata": {},
   "source": [
    "Name: Peishan Huang Github Username: peishanhuang USC ID: 7777529178"
   ]
  },
  {
   "cell_type": "code",
   "execution_count": 1,
   "id": "03d36d92",
   "metadata": {},
   "outputs": [],
   "source": [
    "import pandas as pd\n",
    "from sklearn.svm import LinearSVC\n",
    "from sklearn import preprocessing\n",
    "from sklearn.model_selection import GridSearchCV\n",
    "from sklearn.metrics import accuracy_score, precision_score, recall_score, f1_score, auc, roc_curve, confusion_matrix\n",
    "import statistics\n",
    "import warnings\n",
    "import matplotlib.pyplot as plt\n",
    "import numpy as np\n",
    "from sklearn.cluster import KMeans, SpectralClustering\n",
    "from sklearn.neighbors import NearestNeighbors"
   ]
  },
  {
   "cell_type": "markdown",
   "id": "1021b441",
   "metadata": {},
   "source": [
    "1. Supervised, Semi-Supervised, and Unsupervised Learning\n",
    "(a) Download the Breast Cancer Wisconsin (Diagnostic) Data Set from:\n",
    "https://archive.ics.uci.edu/ml/datasets/Breast+Cancer+Wisconsin+ %28Diagnostic%29. Download the data in https://archive.ics.uci.edu/ml/ machine-learning-databases/breast-cancer-wisconsin/wdbc.data, which has IDs, classes (Benign=B, Malignant=M), and 30 attributes. This data has two output classes."
   ]
  },
  {
   "cell_type": "markdown",
   "id": "7f43626e",
   "metadata": {},
   "source": [
    "(b) Monte-Carlo Simulation: Repeat the following procedures for supervised, un- supervised, and semi-supervised learning M = 30 times, and use randomly se- lected train and test data (make sure you use 20% of both the positve and nega- tive classes as the test set). Then compare the average scores (accuracy, precision, recall, F1-score, and AUC) that you obtain from each algorithm."
   ]
  },
  {
   "cell_type": "markdown",
   "id": "b1ef7f1b",
   "metadata": {},
   "source": [
    "i. Supervised Learning: Train an L1-penalized SVM to classify the data. Use 5 fold cross validation to choose the penalty parameter. Use normalized data. Report the average accuracy, precision, recall, F1-score, and AUC, for both training and test sets over your M runs. Plot the ROC and report the confusion matrix for training and testing in one of the runs."
   ]
  },
  {
   "cell_type": "code",
   "execution_count": 87,
   "id": "419240f8",
   "metadata": {},
   "outputs": [
    {
     "name": "stdout",
     "output_type": "stream",
     "text": [
      "The average accuracy score on testset is 0.9660766961651918\n",
      "The average precision score on testset is 0.9616950908758968\n",
      "The average recall score on testset is 0.9476190476190476\n",
      "The average f1-score on testset is 0.9542010020842983\n",
      "The average AUC score on testset is 0.9623071763916835\n",
      "The average accuracy score on trainset is 0.9827485380116959\n",
      "The average precision score on trainset is 0.9852738921532659\n",
      "The average recall score on trainset is 0.9682352941176471\n",
      "The average f1-score on trainset is 0.9766628271577814\n",
      "The average AUC score on trainset is 0.9798052927464692\n"
     ]
    }
   ],
   "source": [
    "accuracy_train_30=[]\n",
    "precision_train_30=[]\n",
    "recall_train_30=[]\n",
    "f1_train_30=[]\n",
    "auc_train_30=[]\n",
    "\n",
    "accuracy_test_30=[]\n",
    "precision_test_30=[]\n",
    "recall_test_30=[]\n",
    "f1_test_30=[]\n",
    "auc_test_30=[]\n",
    "\n",
    "warnings.filterwarnings('ignore')\n",
    "\n",
    "for m in range(30):\n",
    "    df=pd.read_csv('../data/wdbc.csv',header=None)\n",
    "    df['label']=df.iloc[:,1].map({'M':1,'B':0})\n",
    "    df=df.drop(labels=[0,1],axis=1)\n",
    "    \n",
    "    negative_class_20=df[(df['label']==0)].sample(frac=0.2)\n",
    "    positive_class_20=df[(df['label']==1)].sample(frac=0.2)\n",
    "    testset=pd.concat([negative_class_20,positive_class_20])\n",
    "    trainset=df.drop(testset.index)\n",
    "    X_train=trainset.iloc[:,:-1]\n",
    "    y_train=trainset.iloc[:,-1]\n",
    "    X_train=preprocessing.normalize(X_train)\n",
    "    X_test=testset.iloc[:,:-1]\n",
    "    X_test=preprocessing.normalize(X_test)\n",
    "    y_test=testset.iloc[:,-1]\n",
    "    \n",
    "    #model predict on testset \n",
    "    param_grid=[{'C':[1e-4,1e-3,1e-2,1e-1,1e-0,1e+1,1e+2,1e+3,1e+4]}]\n",
    "    svc=LinearSVC(penalty='l1',dual=False)\n",
    "    model=GridSearchCV(svc,param_grid,cv=5).fit(X_train,y_train)\n",
    "    y_pred_te=model.predict(X_test)\n",
    "    accuracy_test_30.append(accuracy_score(y_test,y_pred_te))\n",
    "    precision_test_30.append(precision_score(y_test,y_pred_te))\n",
    "    recall_test_30.append(recall_score(y_test,y_pred_te))\n",
    "    f1_test_30.append(f1_score(y_test,y_pred_te))\n",
    "    fpr_te, tpr_te, thresholds=roc_curve(y_test,y_pred_te)\n",
    "    auc_test_30.append(auc(fpr_te, tpr_te))\n",
    "\n",
    "    #model predict on trainset\n",
    "    param_grid=[{'C':[1e-4,1e-3,1e-2,1e-1,1e-0,1e+1,1e+2,1e+3,1e+4]}]\n",
    "    svc=LinearSVC(penalty='l1',dual=False)\n",
    "    model=GridSearchCV(svc,param_grid,cv=5).fit(X_train,y_train)\n",
    "    y_pred_tr=model.predict(X_train)\n",
    "    accuracy_train_30.append(accuracy_score(y_train,y_pred_tr))\n",
    "    precision_train_30.append(precision_score(y_train,y_pred_tr))\n",
    "    recall_train_30.append(recall_score(y_train,y_pred_tr))\n",
    "    f1_train_30.append(f1_score(y_train,y_pred_tr))\n",
    "    fpr_tr, tpr_tr, thresholds=roc_curve(y_train,y_pred_tr)\n",
    "    auc_train_30.append(auc(fpr_tr, tpr_tr))\n",
    "\n",
    "#after running M=30 times\n",
    "average_accuracy_test_30=statistics.mean(accuracy_test_30)\n",
    "average_precision_test_30=statistics.mean(precision_test_30)\n",
    "average_recall_test_30=statistics.mean(recall_test_30)\n",
    "average_f1_test_30=statistics.mean(f1_test_30)\n",
    "average_auc_test_30=statistics.mean(auc_test_30)\n",
    "print(f'The average accuracy score on testset is {average_accuracy_test_30}\\nThe average precision score on testset is {average_precision_test_30}\\nThe average recall score on testset is {average_recall_test_30}\\nThe average f1-score on testset is {average_f1_test_30}\\nThe average AUC score on testset is {average_auc_test_30}')\n",
    "\n",
    "average_accuracy_train_30=statistics.mean(accuracy_train_30)\n",
    "average_precision_train_30=statistics.mean(precision_train_30)\n",
    "average_recall_train_30=statistics.mean(recall_train_30)\n",
    "average_f1_train_30=statistics.mean(f1_train_30)\n",
    "average_auc_train_30=statistics.mean(auc_train_30)\n",
    "\n",
    "print(f'The average accuracy score on trainset is {average_accuracy_train_30}\\nThe average precision score on trainset is {average_precision_train_30}\\nThe average recall score on trainset is {average_recall_train_30}\\nThe average f1-score on trainset is {average_f1_train_30}\\nThe average AUC score on trainset is {average_auc_train_30}')\n"
   ]
  },
  {
   "cell_type": "code",
   "execution_count": 85,
   "id": "30e7f040",
   "metadata": {},
   "outputs": [
    {
     "name": "stdout",
     "output_type": "stream",
     "text": [
      "The confusion_matrix_on testset\n",
      " [[70  1]\n",
      " [ 1 41]]\n",
      "The confusion_matrix_on trainset\n",
      " [[283   3]\n",
      " [  6 164]]\n"
     ]
    }
   ],
   "source": [
    "confusion_matrix_test=confusion_matrix(y_test,y_pred_te)\n",
    "print('The confusion_matrix_on testset\\n',confusion_matrix_test)\n",
    "confusion_matrix_train=confusion_matrix(y_train,y_pred_tr)\n",
    "print('The confusion_matrix_on trainset\\n',confusion_matrix_train)"
   ]
  },
  {
   "cell_type": "code",
   "execution_count": 98,
   "id": "8d8fe5f3",
   "metadata": {},
   "outputs": [
    {
     "data": {
      "image/png": "[encoded data removed]",
      "text/plain": [
       "<Figure size 432x288 with 1 Axes>"
      ]
     },
     "metadata": {
      "needs_background": "light"
     },
     "output_type": "display_data"
    }
   ],
   "source": [
    "#plot the ROC on testset\n",
    "plt.plot(fpr_te, tpr_te,label= 'AUC='+str(auc(fpr_te, tpr_te)))\n",
    "plt.xlabel('False Positive rate')\n",
    "plt.ylabel('True Positive rate')\n",
    "plt.legend(loc='lower right')\n",
    "plt.title('Test Receiver Operating Curve')\n",
    "plt.show()"
   ]
  },
  {
   "cell_type": "code",
   "execution_count": 97,
   "id": "e801ae61",
   "metadata": {},
   "outputs": [
    {
     "data": {
      "image/png": "[encoded data removed]",
      "text/plain": [
       "<Figure size 432x288 with 1 Axes>"
      ]
     },
     "metadata": {
      "needs_background": "light"
     },
     "output_type": "display_data"
    }
   ],
   "source": [
    "#plot the ROC on trainset\n",
    "plt.plot(fpr_tr, tpr_tr, label= 'AUC='+str(auc(fpr_tr, tpr_tr)))\n",
    "plt.xlabel('False Positive rate')\n",
    "plt.ylabel('True Positive rate')\n",
    "plt.legend(loc='lower right')\n",
    "plt.title('Train Receiver Operating Curve')\n",
    "plt.show()"
   ]
  },
  {
   "cell_type": "markdown",
   "id": "d492643e",
   "metadata": {},
   "source": [
    "\n",
    "ii. Semi-Supervised Learning/ Self-training: select 50% of the positive class along with 50% of the negative class in the training set as labeled data and the rest as unlabelled data. You can select them randomly.\n",
    "A. Train an L1-penalized SVM to classify the labeled data Use normalized data. Choose the penalty parameter using 5 fold cross validation.\n",
    "B. Findtheunlabeleddatapointthatisthefarthesttothedecisionboundary of the SVM. Let the SVM label it (ignore its true label), and add it to the labeled data, and retrain the SVM. Continue this process until all unlabeled data are used. Test the final SVM on the test data andthe average accuracy, precision, recall, F1-score, and AUC, for both training and test sets over your M runs. Plot the ROC and report the confusion matrix for training and testing in one of the runs."
   ]
  },
  {
   "cell_type": "code",
   "execution_count": 105,
   "id": "0f8940c6",
   "metadata": {},
   "outputs": [
    {
     "name": "stdout",
     "output_type": "stream",
     "text": [
      "The average accuracy score on testset is 0.9530973451327434\n",
      "The average precision score on testset is 0.9362045428804473\n",
      "The average recall score on testset is 0.9396825396825397\n",
      "The average f1-score on testset is 0.937256765540034\n",
      "The average AUC score on testset is 0.9503577017661525\n",
      "The average accuracy score on trainset is 0.9882309941520467\n",
      "The average precision score on trainset is 0.9866510155644233\n",
      "The average recall score on trainset is 0.9825916793831956\n",
      "The average f1-score on trainset is 0.9846001171496666\n",
      "The average AUC score on trainset is 0.9871399415997849\n"
     ]
    }
   ],
   "source": [
    "accuracy_train_30=[]\n",
    "precision_train_30=[]\n",
    "recall_train_30=[]\n",
    "f1_train_30=[]\n",
    "auc_train_30=[]\n",
    "\n",
    "accuracy_test_30=[]\n",
    "precision_test_30=[]\n",
    "recall_test_30=[]\n",
    "f1_test_30=[]\n",
    "auc_test_30=[]\n",
    "\n",
    "warnings.filterwarnings('ignore')\n",
    "\n",
    "for m in range(30):\n",
    "    df=pd.read_csv('../data/wdbc.csv',header=None)\n",
    "    df['label']=df.iloc[:,1].map({'M':1,'B':0})\n",
    "    df=df.drop(labels=[0,1],axis=1)\n",
    "    \n",
    "    negative_class_20=df[(df['label']==0)].sample(frac=0.2)\n",
    "    positive_class_20=df[(df['label']==1)].sample(frac=0.2)\n",
    "    testset=pd.concat([negative_class_20,positive_class_20])\n",
    "    trainset=df.drop(testset.index)\n",
    "    X_test=testset.iloc[:,:-1]\n",
    "    X_test=preprocessing.normalize(X_test)\n",
    "    y_test=testset.iloc[:,-1]\n",
    "    label_data_0=trainset[(trainset['label']==0)].sample(frac=0.5)\n",
    "    label_data_1=trainset[(trainset['label']==1)].sample(frac=0.5)\n",
    "    label_data=pd.concat([label_data_0,label_data_1])\n",
    "    \n",
    "    unlabel_data=trainset.drop(label_data.index)\n",
    "    unlabel_data_X=unlabel_data.reset_index(drop=True)\n",
    "    unlabel_data_y=unlabel_data['label']\n",
    "    unlabel_data_X=unlabel_data.drop(labels='label',axis=1)\n",
    "    unlabel_data_X=preprocessing.normalize(unlabel_data_X)\n",
    "\n",
    "    label_data_X=label_data.iloc[:,:-1]\n",
    "    label_data_X=preprocessing.normalize(label_data_X)\n",
    "    label_data_X=pd.DataFrame(label_data_X)\n",
    "    label_data_y=label_data.iloc[:,-1]\n",
    "    label_data_y=label_data_y.reset_index(drop=True)\n",
    "\n",
    "    for i in range(len(unlabel_data_X)):\n",
    "        param_grid=[{'C':[1e-4,1e-3,1e-2,1e-1,1e-0,1e+1,1e+2,1e+3,1e+4]}]\n",
    "        svc=LinearSVC(penalty='l1',dual=False)\n",
    "        model=GridSearchCV(svc,param_grid,cv=5).fit(label_data_X,label_data_y)\n",
    "        max_index=np.argmax(model.decision_function(unlabel_data_X))\n",
    "        unlabel_data_X=pd.DataFrame(unlabel_data_X)\n",
    "        max_value=pd.DataFrame(unlabel_data_X.iloc[max_index,:]).T ###index对应的features\n",
    "        y_pred=model.predict(max_value)\n",
    "        y_pred=pd.DataFrame(y_pred)\n",
    "        label_data_y=pd.concat([label_data_y,y_pred],ignore_index=True)\n",
    "        label_data_X=label_data_X.append(max_value)\n",
    "        unlabel_data_X=unlabel_data_X.drop(index=max_index,axis=0)\n",
    "        unlabel_data_X=unlabel_data_X.reset_index(drop=True)\n",
    "\n",
    "    #model predict on testset\n",
    "    y_pred_te=model.predict(X_test)\n",
    "    accuracy_test_30.append(accuracy_score(y_test,y_pred_te))\n",
    "    precision_test_30.append(precision_score(y_test,y_pred_te))\n",
    "    recall_test_30.append(recall_score(y_test,y_pred_te))\n",
    "    f1_test_30.append(f1_score(y_test,y_pred_te))\n",
    "    fpr_te, tpr_te, thresholds=roc_curve(y_test,y_pred_te)\n",
    "    auc_test_30.append(auc(fpr_te, tpr_te))\n",
    "    \n",
    "    #model predict on trainset\n",
    "    y_pred_tr=model.predict(label_data_X)\n",
    "    accuracy_train_30.append(accuracy_score(label_data_y,y_pred_tr))\n",
    "    precision_train_30.append(precision_score(label_data_y,y_pred_tr))\n",
    "    recall_train_30.append(recall_score(label_data_y,y_pred_tr))\n",
    "    f1_train_30.append(f1_score(label_data_y,y_pred_tr))\n",
    "    fpr_tr, tpr_tr, thresholds=roc_curve(label_data_y,y_pred_tr)\n",
    "    auc_train_30.append(auc(fpr_tr, tpr_tr))\n",
    "    \n",
    "#after running M=30 times\n",
    "average_accuracy_test_30=statistics.mean(accuracy_test_30)\n",
    "average_precision_test_30=statistics.mean(precision_test_30)\n",
    "average_recall_test_30=statistics.mean(recall_test_30)\n",
    "average_f1_test_30=statistics.mean(f1_test_30)\n",
    "average_auc_test_30=statistics.mean(auc_test_30)\n",
    "\n",
    "print(f'The average accuracy score on testset is {average_accuracy_test_30}\\nThe average precision score on testset is {average_precision_test_30}\\nThe average recall score on testset is {average_recall_test_30}\\nThe average f1-score on testset is {average_f1_test_30}\\nThe average AUC score on testset is {average_auc_test_30}')\n",
    "\n",
    "average_accuracy_train_30=statistics.mean(accuracy_train_30)\n",
    "average_precision_train_30=statistics.mean(precision_train_30)\n",
    "average_recall_train_30=statistics.mean(recall_train_30)\n",
    "average_f1_train_30=statistics.mean(f1_train_30)\n",
    "average_auc_train_30=statistics.mean(auc_train_30)\n",
    "\n",
    "print(f'The average accuracy score on trainset is {average_accuracy_train_30}\\nThe average precision score on trainset is {average_precision_train_30}\\nThe average recall score on trainset is {average_recall_train_30}\\nThe average f1-score on trainset is {average_f1_train_30}\\nThe average AUC score on trainset is {average_auc_train_30}')\n"
   ]
  },
  {
   "cell_type": "code",
   "execution_count": 106,
   "id": "fd429073",
   "metadata": {},
   "outputs": [
    {
     "name": "stdout",
     "output_type": "stream",
     "text": [
      "The confusion_matrix on testset is\n",
      " [[71  0]\n",
      " [ 1 41]]\n",
      "The confusion_matrix on trainset is\n",
      " [[282   1]\n",
      " [  3 170]]\n"
     ]
    }
   ],
   "source": [
    "confusion_matrix_test=confusion_matrix(y_test,y_pred_te)\n",
    "print('The confusion_matrix on testset is\\n', confusion_matrix_test)\n",
    "confusion_matrix_train=confusion_matrix(label_data_y,y_pred_tr)\n",
    "print('The confusion_matrix on trainset is\\n', confusion_matrix_train)"
   ]
  },
  {
   "cell_type": "code",
   "execution_count": 107,
   "id": "62cd13ba",
   "metadata": {},
   "outputs": [
    {
     "data": {
      "image/png": "[encoded data removed]",
      "text/plain": [
       "<Figure size 432x288 with 1 Axes>"
      ]
     },
     "metadata": {
      "needs_background": "light"
     },
     "output_type": "display_data"
    }
   ],
   "source": [
    "#plot the ROC on testset\n",
    "plt.plot(fpr_te, tpr_te, label= 'AUC='+str(auc(fpr_te, tpr_te)))\n",
    "plt.xlabel('False Positive rate')\n",
    "plt.ylabel('True Positive rate')\n",
    "plt.legend(loc='lower right')\n",
    "plt.title('Test Receiver Operating Curve')\n",
    "plt.show()"
   ]
  },
  {
   "cell_type": "code",
   "execution_count": 108,
   "id": "b2353d2a",
   "metadata": {},
   "outputs": [
    {
     "data": {
      "image/png": "[encoded data removed]",
      "text/plain": [
       "<Figure size 432x288 with 1 Axes>"
      ]
     },
     "metadata": {
      "needs_background": "light"
     },
     "output_type": "display_data"
    }
   ],
   "source": [
    "#plot the ROC on trainset\n",
    "plt.plot(fpr_tr, tpr_tr, label='AUC='+str(auc(fpr_tr, tpr_tr)))\n",
    "plt.xlabel('False Positive rate')\n",
    "plt.ylabel('True Positive rate')\n",
    "plt.legend(loc='lower right')\n",
    "plt.title('Train Receiver Operating Curve')\n",
    "plt.show()"
   ]
  },
  {
   "cell_type": "markdown",
   "id": "414ce487",
   "metadata": {},
   "source": [
    "iii. Unsupervised Learning: Run k-means algorithm on the whole training set. Ignore the labels of the data, and assume k = 2.\n",
    "A. Run the k-means algorithm multiple times. Make sure that you initialize the algoritm randomly. How do you make sure that the algorithm was not trapped in a local minimum?"
   ]
  },
  {
   "cell_type": "markdown",
   "id": "d5fe3368",
   "metadata": {},
   "source": [
    "1. run kmeans multiple times\n",
    "2. use a better initialization algorithm. The KMeans++ algorithm is a simple and quite effective initialization strategy. It initializes each cluster to 1 of n of the data points, and the probability of being assigned to a point is proportional to the distances of the previous cluster(s). This makes it likely that the clusters are going to be spread out and likely near the optimal centroids. This also will significantly decrease the number of iterations required for KMeans to converge."
   ]
  },
  {
   "cell_type": "markdown",
   "id": "3f21f171",
   "metadata": {},
   "source": [
    "B. Compute the centers of the two clusters and find the closest 30 data points to each center. Read the true labels of those 30 data points and take a majority poll within them. The majority poll becomes the label predicted by k-means for the members of each cluster. Then compare the labels provided by k-means with the true labels of the training data and report the average accuracy, precision, recall, F1-score, and AUC over M runs, and ROC and the confusion matrix for one of the runs.1\n",
    "C. Classify test data based on their proximity to the centers of the clusters. Report the average accuracy, precision, recall, F1-score, and AUC over M runs, and ROC and the confusion matrix for one of the runs for the test data.2"
   ]
  },
  {
   "cell_type": "code",
   "execution_count": 154,
   "id": "fd61fccd",
   "metadata": {},
   "outputs": [
    {
     "name": "stdout",
     "output_type": "stream",
     "text": [
      "The average accuracy score on trainset is 0.6842105263157895\n",
      "The average precision score on trainset is 0.0\n",
      "The average recall score on trainset is 0.0\n",
      "The average f1-score on trainset is 0.0\n",
      "The average AUC score on trainset is 0.5\n",
      "The average accuracy score on testset is 0.5029498525073747\n",
      "The average precision score on testset is 0.5342114198571652\n",
      "The average recall score on testset is 0.5031746031746032\n",
      "The average f1-score on testset is 0.50631869511309\n",
      "The average AUC score on testset is 0.5029957522915269\n"
     ]
    }
   ],
   "source": [
    "accuracy_train_30=[]\n",
    "precision_train_30=[]\n",
    "recall_train_30=[]\n",
    "f1_train_30=[]\n",
    "auc_train_30=[]\n",
    "\n",
    "accuracy_test_30=[]\n",
    "precision_test_30=[]\n",
    "recall_test_30=[]\n",
    "f1_test_30=[]\n",
    "auc_test_30=[]\n",
    "\n",
    "warnings.filterwarnings('ignore')\n",
    "\n",
    "for i in range(30):\n",
    "    df=pd.read_csv('../data/wdbc.csv',header=None)\n",
    "    df['label']=df.iloc[:,1].map({'M':1,'B':0})\n",
    "    df=df.drop(labels=[0,1],axis=1)\n",
    "    \n",
    "    negative_class_20=df[(df['label']==0)].sample(frac=0.2)\n",
    "    positive_class_20=df[(df['label']==1)].sample(frac=0.2)\n",
    "    testset=pd.concat([negative_class_20,positive_class_20])\n",
    "    testset=testset.reset_index(drop=True)\n",
    "    trainset=df.drop(testset.index)\n",
    "    trainset=trainset.reset_index(drop=True)\n",
    "    X_train=trainset.iloc[:,:-1]\n",
    "    y_train=trainset.iloc[:,-1]\n",
    "    X_train=preprocessing.normalize(X_train)\n",
    "    X_test=testset.iloc[:,:-1]\n",
    "    X_test=preprocessing.normalize(X_test)\n",
    "    y_test=testset.iloc[:,-1]\n",
    "    \n",
    "    model=KMeans(n_clusters=2, n_init=10, init='k-means++').fit(X_train)\n",
    "    #print(model.cluster_centers_)\n",
    "    #find the closest 30 data points to these two centers\n",
    "    NN=NearestNeighbors(n_neighbors=30, algorithm='ball_tree').fit(X_train)\n",
    "    distances, indices = NN.kneighbors(model.cluster_centers_)\n",
    "    cluster0=y_train.loc[indices[0]]\n",
    "    majority_polling_0=cluster0.value_counts()\n",
    "    max_label_0=np.argmax(majority_polling_0) #label for cluster0\n",
    "    cluster1=y_train.loc[indices[1]]\n",
    "    majority_polling_1=cluster1.value_counts()\n",
    "    max_label_1=np.argmax(majority_polling_1) #label for cluster1\n",
    "    \n",
    "    #model predict on trainset\n",
    "    y_pred_tr=model.predict(X_train)\n",
    "    #print(y_pred_tr)\n",
    "    labels=[]\n",
    "    for i in y_pred_tr:\n",
    "        if i==0:\n",
    "            label=max_label_0\n",
    "            labels.append(label)\n",
    "        if i==1:\n",
    "            label=max_label_1\n",
    "            labels.append(label)\n",
    "    accuracy_train_30.append(accuracy_score(y_train,labels))\n",
    "    precision_train_30.append(precision_score(y_train,labels))\n",
    "    recall_train_30.append(recall_score(y_train,labels))\n",
    "    f1_train_30.append(f1_score(y_train,labels))\n",
    "    fpr_tr, tpr_tr, thresholds = roc_curve(y_train,labels)\n",
    "    auc_train_30.append(auc(fpr_tr, tpr_tr))\n",
    "    \n",
    "    #model predict on testset\n",
    "    y_pred_te=model.predict(X_test)\n",
    "    accuracy_test_30.append(accuracy_score(y_test,y_pred_te))\n",
    "    precision_test_30.append(precision_score(y_test,y_pred_te))\n",
    "    recall_test_30.append(recall_score(y_test,y_pred_te))\n",
    "    f1_test_30.append(f1_score(y_test,y_pred_te))\n",
    "    fpr_te, tpr_te, thresholds = roc_curve(y_test,y_pred_te)\n",
    "    auc_test_30.append(auc(fpr_te, tpr_te))\n",
    "\n",
    "#after running M=30 times\n",
    "average_accuracy_train_30=statistics.mean(accuracy_train_30)\n",
    "average_precision_train_30=statistics.mean(precision_train_30)\n",
    "average_recall_train_30=statistics.mean(recall_train_30)\n",
    "average_f1_train_30=statistics.mean(f1_train_30)\n",
    "average_auc_train_30=statistics.mean(auc_train_30)\n",
    "\n",
    "print(f'The average accuracy score on trainset is {average_accuracy_train_30}\\nThe average precision score on trainset is {average_precision_train_30}\\nThe average recall score on trainset is {average_recall_train_30}\\nThe average f1-score on trainset is {average_f1_train_30}\\nThe average AUC score on trainset is {average_auc_train_30}')\n",
    "\n",
    "average_accuracy_test_30=statistics.mean(accuracy_test_30)\n",
    "average_precision_test_30=statistics.mean(precision_test_30)\n",
    "average_recall_test_30=statistics.mean(recall_test_30)\n",
    "average_f1_test_30=statistics.mean(f1_test_30)\n",
    "average_auc_test_30=statistics.mean(auc_test_30)\n",
    "\n",
    "print(f'The average accuracy score on testset is {average_accuracy_test_30}\\nThe average precision score on testset is {average_precision_test_30}\\nThe average recall score on testset is {average_recall_test_30}\\nThe average f1-score on testset is {average_f1_test_30}\\nThe average AUC score on testset is {average_auc_test_30}')   \n",
    "    "
   ]
  },
  {
   "cell_type": "code",
   "execution_count": 156,
   "id": "309e7cc7",
   "metadata": {},
   "outputs": [
    {
     "name": "stdout",
     "output_type": "stream",
     "text": [
      "The confusion_matrix on trainset is\n",
      " [[312   0]\n",
      " [144   0]]\n",
      "The confusion_matrix on testset is\n",
      " [[70  1]\n",
      " [ 7 35]]\n"
     ]
    }
   ],
   "source": [
    "confusion_matrix_train=confusion_matrix(y_train,labels)\n",
    "print('The confusion_matrix on trainset is\\n', confusion_matrix_train)\n",
    "confusion_matrix_test=confusion_matrix(y_test,y_pred_te)\n",
    "print('The confusion_matrix on testset is\\n', confusion_matrix_test)"
   ]
  },
  {
   "cell_type": "code",
   "execution_count": 157,
   "id": "dfe84bff",
   "metadata": {},
   "outputs": [
    {
     "data": {
      "image/png": "[encoded data removed]",
      "text/plain": [
       "<Figure size 432x288 with 1 Axes>"
      ]
     },
     "metadata": {
      "needs_background": "light"
     },
     "output_type": "display_data"
    }
   ],
   "source": [
    "#plot the ROC on Trainset\n",
    "plt.plot(fpr_tr, tpr_tr, label= 'AUC='+str(auc(fpr_tr, tpr_tr)))\n",
    "plt.xlabel('False Positive rate')\n",
    "plt.ylabel('True Positive rate')\n",
    "plt.legend(loc='lower right')\n",
    "plt.title('Train Receiver Operating Curve')\n",
    "plt.show()"
   ]
  },
  {
   "cell_type": "code",
   "execution_count": 159,
   "id": "71e1491d",
   "metadata": {},
   "outputs": [
    {
     "data": {
      "image/png": "[encoded data removed]",
      "text/plain": [
       "<Figure size 432x288 with 1 Axes>"
      ]
     },
     "metadata": {
      "needs_background": "light"
     },
     "output_type": "display_data"
    }
   ],
   "source": [
    "#plot the ROC on testset\n",
    "plt.plot(fpr_te, tpr_te, label= 'AUC='+str(auc(fpr_te, tpr_te)))\n",
    "plt.xlabel('False Positive rate')\n",
    "plt.ylabel('True Positive rate')\n",
    "plt.legend(loc='lower right')\n",
    "plt.title('Test Receiver Operating Curve')\n",
    "plt.show()"
   ]
  },
  {
   "cell_type": "markdown",
   "id": "cb258d2f",
   "metadata": {},
   "source": [
    "iv. Spectral Clustering: Repeat 1(b)iii using spectral clustering, which is clus- tering based on kernels.3 Research what spectral clustering is. Use RBF kernel with gamma=1 or find a gamma for which the two clutsres have the same balance as the one in original data set (if the positive class has p and the negative class has n samples, the two clusters must have p and n members). Do not label data based on their proximity to cluster center, because spectral clustering may give you non-convex clusters . Instead, use fit − predict method."
   ]
  },
  {
   "cell_type": "code",
   "execution_count": 164,
   "id": "d7a3a178",
   "metadata": {},
   "outputs": [
    {
     "name": "stdout",
     "output_type": "stream",
     "text": [
      "The average accuracy score on trainset is 0.57953216374269\n",
      "The average precision score on trainset is 0.58778053292433\n",
      "The average recall score on trainset is 0.55\n",
      "The average f1-score on trainset is 0.5528599056245416\n",
      "The average AUC score on trainset is 0.5715811965811967\n",
      "The average accuracy score on testset is 0.6492625368731564\n",
      "The average precision score on testset is 0.6987901619299041\n",
      "The average recall score on testset is 0.5785714285714285\n",
      "The average f1-score on testset is 0.6194518466975972\n",
      "The average AUC score on testset is 0.6348256203890007\n"
     ]
    }
   ],
   "source": [
    "accuracy_train_30=[]\n",
    "precision_train_30=[]\n",
    "recall_train_30=[]\n",
    "f1_train_30=[]\n",
    "auc_train_30=[]\n",
    "\n",
    "accuracy_test_30=[]\n",
    "precision_test_30=[]\n",
    "recall_test_30=[]\n",
    "f1_test_30=[]\n",
    "auc_test_30=[]\n",
    "\n",
    "warnings.filterwarnings('ignore')\n",
    "\n",
    "for i in range(30):\n",
    "    df=pd.read_csv('../data/wdbc.csv',header=None)\n",
    "    df['label']=df.iloc[:,1].map({'M':1,'B':0})\n",
    "    df=df.drop(labels=[0,1],axis=1)\n",
    "    \n",
    "    negative_class_20=df[(df['label']==0)].sample(frac=0.2)\n",
    "    positive_class_20=df[(df['label']==1)].sample(frac=0.2)\n",
    "    testset=pd.concat([negative_class_20,positive_class_20])\n",
    "    testset=testset.reset_index(drop=True)\n",
    "    trainset=df.drop(testset.index)\n",
    "    trainset=trainset.reset_index(drop=True)\n",
    "    X_train=trainset.iloc[:,:-1]\n",
    "    y_train=trainset.iloc[:,-1]\n",
    "    X_train=preprocessing.normalize(X_train)\n",
    "    X_test=testset.iloc[:,:-1]\n",
    "    X_test=preprocessing.normalize(X_test)\n",
    "    y_test=testset.iloc[:,-1]\n",
    "    \n",
    "    model=SpectralClustering(n_clusters=2, gamma=1, affinity='rbf')\n",
    "    y_pred_tr=model.fit_predict(X_train)\n",
    "    #model predict on trainset\n",
    "    accuracy_train_30.append(accuracy_score(y_train,y_pred_tr))\n",
    "    precision_train_30.append(precision_score(y_train,y_pred_tr))\n",
    "    recall_train_30.append(recall_score(y_train,y_pred_tr))\n",
    "    f1_train_30.append(f1_score(y_train,y_pred_tr))\n",
    "    fpr_tr, tpr_tr, thresholds = roc_curve(y_train,y_pred_tr)\n",
    "    auc_train_30.append(auc(fpr_tr, tpr_tr))\n",
    "    #model predict on testset\n",
    "    y_pred_te=model.fit_predict(X_test)\n",
    "    accuracy_test_30.append(accuracy_score(y_test,y_pred_te))\n",
    "    precision_test_30.append(precision_score(y_test,y_pred_te))\n",
    "    recall_test_30.append(recall_score(y_test,y_pred_te))\n",
    "    f1_test_30.append(f1_score(y_test,y_pred_te))\n",
    "    fpr_te, tpr_te, thresholds = roc_curve(y_test,y_pred_te)\n",
    "    auc_test_30.append(auc(fpr_te, tpr_te))\n",
    "\n",
    "#after running M=30 times\n",
    "average_accuracy_train_30=statistics.mean(accuracy_train_30)\n",
    "average_precision_train_30=statistics.mean(precision_train_30)\n",
    "average_recall_train_30=statistics.mean(recall_train_30)\n",
    "average_f1_train_30=statistics.mean(f1_train_30)\n",
    "average_auc_train_30=statistics.mean(auc_train_30)\n",
    "\n",
    "print(f'The average accuracy score on trainset is {average_accuracy_train_30}\\nThe average precision score on trainset is {average_precision_train_30}\\nThe average recall score on trainset is {average_recall_train_30}\\nThe average f1-score on trainset is {average_f1_train_30}\\nThe average AUC score on trainset is {average_auc_train_30}')\n",
    "\n",
    "average_accuracy_test_30=statistics.mean(accuracy_test_30)\n",
    "average_precision_test_30=statistics.mean(precision_test_30)\n",
    "average_recall_test_30=statistics.mean(recall_test_30)\n",
    "average_f1_test_30=statistics.mean(f1_test_30)\n",
    "average_auc_test_30=statistics.mean(auc_test_30)\n",
    "\n",
    "print(f'The average accuracy score on testset is {average_accuracy_test_30}\\nThe average precision score on testset is {average_precision_test_30}\\nThe average recall score on testset is {average_recall_test_30}\\nThe average f1-score on testset is {average_f1_test_30}\\nThe average AUC score on testset is {average_auc_test_30}')   \n",
    "    "
   ]
  },
  {
   "cell_type": "code",
   "execution_count": 165,
   "id": "f2c38ba3",
   "metadata": {},
   "outputs": [
    {
     "name": "stdout",
     "output_type": "stream",
     "text": [
      "The confusion_matrix on trainset is\n",
      " [[301  11]\n",
      " [ 36 108]]\n",
      "The confusion_matrix on testset is\n",
      " [[71  0]\n",
      " [21 21]]\n"
     ]
    }
   ],
   "source": [
    "confusion_matrix_train=confusion_matrix(y_train,y_pred_tr)\n",
    "print('The confusion_matrix on trainset is\\n', confusion_matrix_train)\n",
    "confusion_matrix_test=confusion_matrix(y_test,y_pred_te)\n",
    "print('The confusion_matrix on testset is\\n', confusion_matrix_test)"
   ]
  },
  {
   "cell_type": "code",
   "execution_count": 166,
   "id": "fb882d72",
   "metadata": {},
   "outputs": [
    {
     "data": {
      "image/png": "[encoded data removed]",
      "text/plain": [
       "<Figure size 432x288 with 1 Axes>"
      ]
     },
     "metadata": {
      "needs_background": "light"
     },
     "output_type": "display_data"
    }
   ],
   "source": [
    "#plot the ROC on trainset\n",
    "plt.plot(fpr_tr, tpr_tr, label='AUC='+str(auc(fpr_tr, tpr_tr)))\n",
    "plt.xlabel('False Positive rate')\n",
    "plt.ylabel('True Positive rate')\n",
    "plt.legend(loc='lower right')\n",
    "plt.title('Train Receiver Operating Curve')\n",
    "plt.show()"
   ]
  },
  {
   "cell_type": "code",
   "execution_count": 167,
   "id": "79c8b496",
   "metadata": {},
   "outputs": [
    {
     "data": {
      "image/png": "[encoded data removed]",
      "text/plain": [
       "<Figure size 432x288 with 1 Axes>"
      ]
     },
     "metadata": {
      "needs_background": "light"
     },
     "output_type": "display_data"
    }
   ],
   "source": [
    "#plot the ROC on testset\n",
    "plt.plot(fpr_te, tpr_te, label='AUC='+str(auc(fpr_te, tpr_te)))\n",
    "plt.xlabel('False Positive rate')\n",
    "plt.ylabel('True Positive rate')\n",
    "plt.legend(loc='lower right')\n",
    "plt.title('Test Receiver Operating Curve')\n",
    "plt.show()"
   ]
  },
  {
   "cell_type": "markdown",
   "id": "a84899d5",
   "metadata": {},
   "source": [
    "v. One can expect that supervised learning on the full data set works better than semi-supervised learning with half of the data set labeled.One can expect that unsupervised learning underperforms in such situations. Compare the results you obtained by those methods."
   ]
  },
  {
   "cell_type": "markdown",
   "id": "19bb0db4",
   "metadata": {},
   "source": [
    "Comparing the above 4 methods, the average performence on supervised learning on the full dataset actually almost the same with the semi-supervised learning with half of the labeled dataset. Both of them work far better than the unsupervised learning methods, in which the spectral clustering works better than k-means clustering by having the higher average performance on testset."
   ]
  },
  {
   "cell_type": "markdown",
   "id": "20a8c426",
   "metadata": {},
   "source": [
    "2. Active Learning Using Support Vector Machines\n",
    "(a) Download the banknote authentication Data Set from: https://archive.ics. uci.edu/ml/datasets/banknote+authentication. Choose 472 data points ran- domly as the test set, and the remaining 900 points as the training set. This is a binary classification problem."
   ]
  },
  {
   "cell_type": "markdown",
   "id": "e8127bcd",
   "metadata": {},
   "source": [
    "(b) Repeat each of the following two procedures 50 times. You will have 50 errors for 90 SVMs per each procedure.\n",
    "i. \n",
    "TrainaSVMwithapoolof10randomlyselecteddatapointsfromthetraining set using linear kernel and L1 penalty. Select the penalty parameter using 5-fold cross validation.4 Repeat this process by adding 10 other randomly selected data points to the pool, until you use all the 900 points. Do NOT replace the samples back into the training set at each step. Calculate the test error for each SVM. You will have 90 SVMs that were trained using 10, 20, 30, ... , 900 data points and their 90 test errors. You have implemented passive learning."
   ]
  },
  {
   "cell_type": "code",
   "execution_count": 17,
   "id": "cbb86254",
   "metadata": {},
   "outputs": [
    {
     "data": {
      "text/html": [
       "<div>\n",
       "<style scoped>\n",
       "    .dataframe tbody tr th:only-of-type {\n",
       "        vertical-align: middle;\n",
       "    }\n",
       "\n",
       "    .dataframe tbody tr th {\n",
       "        vertical-align: top;\n",
       "    }\n",
       "\n",
       "    .dataframe thead th {\n",
       "        text-align: right;\n",
       "    }\n",
       "</style>\n",
       "<table border=\"1\" class=\"dataframe\">\n",
       "  <thead>\n",
       "    <tr style=\"text-align: right;\">\n",
       "      <th></th>\n",
       "      <th>0</th>\n",
       "      <th>1</th>\n",
       "      <th>2</th>\n",
       "      <th>3</th>\n",
       "    </tr>\n",
       "  </thead>\n",
       "  <tbody>\n",
       "    <tr>\n",
       "      <th>0</th>\n",
       "      <td>2.91630</td>\n",
       "      <td>10.83060</td>\n",
       "      <td>-3.34370</td>\n",
       "      <td>-4.12200</td>\n",
       "    </tr>\n",
       "    <tr>\n",
       "      <th>1</th>\n",
       "      <td>3.06320</td>\n",
       "      <td>-3.33150</td>\n",
       "      <td>5.13050</td>\n",
       "      <td>0.82670</td>\n",
       "    </tr>\n",
       "    <tr>\n",
       "      <th>2</th>\n",
       "      <td>4.93620</td>\n",
       "      <td>7.60460</td>\n",
       "      <td>-2.34290</td>\n",
       "      <td>-0.85302</td>\n",
       "    </tr>\n",
       "    <tr>\n",
       "      <th>3</th>\n",
       "      <td>-2.89900</td>\n",
       "      <td>-0.60424</td>\n",
       "      <td>2.60450</td>\n",
       "      <td>1.37760</td>\n",
       "    </tr>\n",
       "    <tr>\n",
       "      <th>4</th>\n",
       "      <td>-1.85540</td>\n",
       "      <td>-9.60350</td>\n",
       "      <td>7.77640</td>\n",
       "      <td>-0.97716</td>\n",
       "    </tr>\n",
       "    <tr>\n",
       "      <th>...</th>\n",
       "      <td>...</td>\n",
       "      <td>...</td>\n",
       "      <td>...</td>\n",
       "      <td>...</td>\n",
       "    </tr>\n",
       "    <tr>\n",
       "      <th>467</th>\n",
       "      <td>3.51520</td>\n",
       "      <td>6.82240</td>\n",
       "      <td>-0.67377</td>\n",
       "      <td>-0.46898</td>\n",
       "    </tr>\n",
       "    <tr>\n",
       "      <th>468</th>\n",
       "      <td>-2.88330</td>\n",
       "      <td>1.77130</td>\n",
       "      <td>0.68946</td>\n",
       "      <td>-0.46380</td>\n",
       "    </tr>\n",
       "    <tr>\n",
       "      <th>469</th>\n",
       "      <td>0.19081</td>\n",
       "      <td>9.12970</td>\n",
       "      <td>-3.72500</td>\n",
       "      <td>-5.82240</td>\n",
       "    </tr>\n",
       "    <tr>\n",
       "      <th>470</th>\n",
       "      <td>-2.54190</td>\n",
       "      <td>-0.65804</td>\n",
       "      <td>2.68420</td>\n",
       "      <td>1.19520</td>\n",
       "    </tr>\n",
       "    <tr>\n",
       "      <th>471</th>\n",
       "      <td>1.48960</td>\n",
       "      <td>3.42880</td>\n",
       "      <td>-4.03090</td>\n",
       "      <td>-1.42590</td>\n",
       "    </tr>\n",
       "  </tbody>\n",
       "</table>\n",
       "<p>472 rows × 4 columns</p>\n",
       "</div>"
      ],
      "text/plain": [
       "           0         1        2        3\n",
       "0    2.91630  10.83060 -3.34370 -4.12200\n",
       "1    3.06320  -3.33150  5.13050  0.82670\n",
       "2    4.93620   7.60460 -2.34290 -0.85302\n",
       "3   -2.89900  -0.60424  2.60450  1.37760\n",
       "4   -1.85540  -9.60350  7.77640 -0.97716\n",
       "..       ...       ...      ...      ...\n",
       "467  3.51520   6.82240 -0.67377 -0.46898\n",
       "468 -2.88330   1.77130  0.68946 -0.46380\n",
       "469  0.19081   9.12970 -3.72500 -5.82240\n",
       "470 -2.54190  -0.65804  2.68420  1.19520\n",
       "471  1.48960   3.42880 -4.03090 -1.42590\n",
       "\n",
       "[472 rows x 4 columns]"
      ]
     },
     "execution_count": 17,
     "metadata": {},
     "output_type": "execute_result"
    }
   ],
   "source": [
    "df=pd.read_csv('../data/data_banknote_authentication.txt',header=None)\n",
    "testset=df.sample(n=472)\n",
    "trainset=df.drop(testset.index)\n",
    "testset=testset.reset_index(drop=True)\n",
    "trainset=trainset.reset_index(drop=True)\n",
    "X_test=testset.iloc[:,:-1]\n",
    "y_test=testset.iloc[:,-1].values\n",
    "X_test"
   ]
  },
  {
   "cell_type": "code",
   "execution_count": 15,
   "id": "b4a9372d",
   "metadata": {},
   "outputs": [
    {
     "name": "stdout",
     "output_type": "stream",
     "text": [
      "The average 50 test error is\n",
      " 0.017065913370998102\n"
     ]
    },
    {
     "data": {
      "image/png": "[encoded data removed]",
      "text/plain": [
       "<Figure size 432x288 with 1 Axes>"
      ]
     },
     "metadata": {
      "needs_background": "light"
     },
     "output_type": "display_data"
    }
   ],
   "source": [
    "#passive learning\n",
    "warnings.filterwarnings('ignore')\n",
    "\n",
    "average_testerrors_50=[]\n",
    "\n",
    "for i in range(50):\n",
    "    testerrors_90=[]\n",
    "    datapoints=pd.DataFrame()\n",
    "    for k in range(90):\n",
    "        trainsettmp = trainset\n",
    "        datapoints_10=trainsettmp.sample(n=10,replace=False)\n",
    "        datapoints=pd.concat([datapoints,datapoints_10])\n",
    "        trainsettmp=trainsettmp.drop(datapoints_10.index)\n",
    "        X_train=datapoints.iloc[:,:-1]\n",
    "        y_train=datapoints.iloc[:,-1]\n",
    "        param_grid=[{'C':[1e-4,1e-3,1e-2,1e-1,1e-0,1e+1,1e+2,1e+3,1e+4]}]\n",
    "        svc=LinearSVC(penalty='l1',dual=False)\n",
    "        model=GridSearchCV(svc, param_grid, cv=5).fit(X_train,y_train)\n",
    "        y_pred=model.predict(X_test)\n",
    "        testerrors_90.append(1-accuracy_score(y_test,y_pred))\n",
    "    average_testerrors_50.append(statistics.mean(testerrors_90))\n",
    "\n",
    "average_50=statistics.mean(average_testerrors_50)\n",
    "print('The average 50 test error is\\n', average_50)\n",
    "\n",
    "instance_numbers=[]\n",
    "for r in range(1,91):\n",
    "    instance_numbers.append(r*10)\n",
    "\n",
    "plt.plot(instance_numbers,testerrors_90)\n",
    "plt.xlabel('The number of training instances in each run')\n",
    "plt.ylabel('The average test error in each run')\n",
    "plt.show()"
   ]
  },
  {
   "cell_type": "markdown",
   "id": "98888802",
   "metadata": {},
   "source": [
    "ii. Train a SVM with a pool of 10 randomly selected datapoints from the training set using linear kernel and L1 penalty. Select the parameters of the SVM with 5-fold cross validation. Choose the 10 closest data points in the training set to the hyperplane of the SVM6 and add them to the pool. Do not replace the samples back into the training set. Train a new SVM using the pool. Repeat this process until all training data is used. You will have 90 SVMs that were trained using 10, 20, 30,..., 900 data points and their 90 test errors. You have implemented active learning.\n",
    "(c) Average the 50 test errors for each of the incrementally trained 90 SVMs in 2(b)i and 2(b)ii. By doing so, you are performing a Monte Carlo simulation. Plot average test error versus number of training instances for both active and passive learners on the same figure and report your conclusions. Here, you are actually obtaining a learning curve by Monte-Carlo simulation."
   ]
  },
  {
   "cell_type": "code",
   "execution_count": 49,
   "id": "44cef998",
   "metadata": {},
   "outputs": [
    {
     "name": "stdout",
     "output_type": "stream",
     "text": [
      "The average 50 test error is\n",
      " 0.02423258003766479\n"
     ]
    },
    {
     "data": {
      "image/png": "[encoded data removed]",
      "text/plain": [
       "<Figure size 432x288 with 1 Axes>"
      ]
     },
     "metadata": {
      "needs_background": "light"
     },
     "output_type": "display_data"
    }
   ],
   "source": [
    "#active learning\n",
    "warnings.filterwarnings('ignore')\n",
    "\n",
    "average_testerrors_50=[]\n",
    "\n",
    "for i in range(50):\n",
    "    datapoints=pd.DataFrame()\n",
    "    testerrors_90_active=[]\n",
    "    for k in range(1):\n",
    "        trainset_tmp=trainset\n",
    "        datapoints_10=trainset_tmp.sample(n=10, replace=False)\n",
    "        datapoints=pd.concat([datapoints,datapoints_10])\n",
    "        trainset_tmp=trainset_tmp.drop(datapoints_10.index)\n",
    "        trainset_tmp=trainset_tmp.reset_index(drop=True)\n",
    "        X_train=datapoints.iloc[:,:-1]\n",
    "        y_train=datapoints.iloc[:,-1]\n",
    "        param_grid=[{'C':[1e-4,1e-3,1e-2,1e-1,1e-0,1e+1,1e+2,1e+3,1e+4]}]\n",
    "        svc=LinearSVC(penalty='l1',dual=False)\n",
    "        model=GridSearchCV(svc, param_grid, cv=5).fit(X_train,y_train)\n",
    "        y_pred=model.predict(X_test)\n",
    "        testerrors_90_active.append(1-accuracy_score(y_test,y_pred))\n",
    "    for k in range(1,90):\n",
    "        X_tmp=trainset_tmp.iloc[:,:-1]\n",
    "        distance=abs(model.decision_function(X_tmp))\n",
    "        distance_df=pd.DataFrame(distance)\n",
    "        \n",
    "        distance_df = distance_df.sort_values(0)\n",
    "        distance_df = distance_df.iloc[0:10,]\n",
    "        distance_df_index = distance_df.index\n",
    "        temp  =  trainset_tmp.iloc[distance_df_index,:]\n",
    "        trainset_tmp= trainset_tmp.drop(index = distance_df_index)\n",
    "        trainset_tmp=trainset_tmp.reset_index(drop=True)\n",
    "        datapoints=pd.concat([datapoints,temp])\n",
    "        \n",
    "        #distance_df=distance_df.sort_values(0)\n",
    "        #closest_10_datapoint=distance_df.iloc[:10,:]\n",
    "        #closest_10_index=closest_10_datapoint.index\n",
    "        #for i in closest_10_index:\n",
    "            #closest_datapoint=trainset_tmp.loc[i]\n",
    "            #datapoints=pd.concat([datapoints,closest_datapoint])\n",
    "        #trainset_tmp=trainset_tmp.drop(closest_10_index)\n",
    "        #trainset_tmp=trainset_tmp.reset_index(drop=True)\n",
    "        \n",
    "        X_train=datapoints.iloc[:,:-1]\n",
    "        y_train=datapoints.iloc[:,-1]\n",
    "        param_grid=[{'C':[1e-4,1e-3,1e-2,1e-1,1e-0,1e+1,1e+2,1e+3,1e+4]}]\n",
    "        svc=LinearSVC(penalty='l1',dual=False)\n",
    "        model=GridSearchCV(svc, param_grid, cv=5).fit(X_train,y_train)\n",
    "        y_pred=model.predict(X_test)\n",
    "        testerrors_90_active.append(1-accuracy_score(y_test,y_pred))\n",
    "    average_testerrors_50.append(statistics.mean(testerrors_90_active))\n",
    "\n",
    "average_50=statistics.mean(average_testerrors_50)\n",
    "print('The average 50 test error is\\n', average_50)\n",
    "\n",
    "instance_numbers_active=[]\n",
    "for r in range(1,91):\n",
    "    instance_numbers_active.append(r*10)\n",
    "\n",
    "plt.plot(instance_numbers_active, testerrors_90_active, label='active_learning')\n",
    "plt.plot(instance_numbers, testerrors_90, label='passive_learning')\n",
    "plt.xlabel('The number of training instances in each run')\n",
    "plt.ylabel('The average test error in each run')\n",
    "plt.legend(loc='upper right')\n",
    "plt.title('Monte-Carlo simulation')\n",
    "plt.show()"
   ]
  },
  {
   "cell_type": "markdown",
   "id": "9630aae7",
   "metadata": {},
   "source": [
    "Reference:\n",
    "    1.T.:https://pandas.pydata.org/pandas-docs/version/0.25.0/reference/api/pandas.DataFrame.T.html\n",
    "    2.kmeans:https://www.analyticsvidhya.com/blog/2021/05/20-questions-to-test-your-skills-on-k-means-clustering-algorithm/\n",
    "    3.kmeans:https://stackoverflow.com/questions/43789602/avoiding-local-minima-when-using-kmeans\n",
    "    4.df.sort_values:https://pandas.pydata.org/docs/reference/api/pandas.DataFrame.sort_values.html"
   ]
  }
 ],
 "metadata": {
  "kernelspec": {
   "display_name": "Python 3 (ipykernel)",
   "language": "python",
   "name": "python3"
  },
  "language_info": {
   "codemirror_mode": {
    "name": "ipython",
    "version": 3
   },
   "file_extension": ".py",
   "mimetype": "text/x-python",
   "name": "python",
   "nbconvert_exporter": "python",
   "pygments_lexer": "ipython3",
   "version": "3.9.7"
  }
 },
 "nbformat": 4,
 "nbformat_minor": 5
}
